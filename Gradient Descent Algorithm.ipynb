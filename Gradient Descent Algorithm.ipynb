{
 "cells": [
  {
   "cell_type": "markdown",
   "id": "f3523d5d",
   "metadata": {},
   "source": [
    "# Gradient Descent Algorithm"
   ]
  },
  {
   "cell_type": "markdown",
   "id": "726763b9",
   "metadata": {},
   "source": [
    "**Importing all the necessary libraries**"
   ]
  },
  {
   "cell_type": "code",
   "execution_count": 3,
   "id": "0152a520",
   "metadata": {},
   "outputs": [],
   "source": [
    "import numpy as np\n",
    "import pandas as pd"
   ]
  },
  {
   "cell_type": "code",
   "execution_count": 4,
   "id": "176fe760",
   "metadata": {},
   "outputs": [],
   "source": [
    "df = pd.read_csv('C:\\\\users\\\\91701\\\\OneDrive\\\\Desktop\\\\Salary_Data.csv')"
   ]
  },
  {
   "cell_type": "code",
   "execution_count": 5,
   "id": "a8462e57",
   "metadata": {},
   "outputs": [
    {
     "data": {
      "text/html": [
       "<div>\n",
       "<style scoped>\n",
       "    .dataframe tbody tr th:only-of-type {\n",
       "        vertical-align: middle;\n",
       "    }\n",
       "\n",
       "    .dataframe tbody tr th {\n",
       "        vertical-align: top;\n",
       "    }\n",
       "\n",
       "    .dataframe thead th {\n",
       "        text-align: right;\n",
       "    }\n",
       "</style>\n",
       "<table border=\"1\" class=\"dataframe\">\n",
       "  <thead>\n",
       "    <tr style=\"text-align: right;\">\n",
       "      <th></th>\n",
       "      <th>YearsExperience</th>\n",
       "      <th>Salary</th>\n",
       "    </tr>\n",
       "  </thead>\n",
       "  <tbody>\n",
       "    <tr>\n",
       "      <th>0</th>\n",
       "      <td>1.1</td>\n",
       "      <td>39343.0</td>\n",
       "    </tr>\n",
       "    <tr>\n",
       "      <th>1</th>\n",
       "      <td>1.3</td>\n",
       "      <td>46205.0</td>\n",
       "    </tr>\n",
       "    <tr>\n",
       "      <th>2</th>\n",
       "      <td>1.5</td>\n",
       "      <td>37731.0</td>\n",
       "    </tr>\n",
       "    <tr>\n",
       "      <th>3</th>\n",
       "      <td>2.0</td>\n",
       "      <td>43525.0</td>\n",
       "    </tr>\n",
       "    <tr>\n",
       "      <th>4</th>\n",
       "      <td>2.2</td>\n",
       "      <td>39891.0</td>\n",
       "    </tr>\n",
       "  </tbody>\n",
       "</table>\n",
       "</div>"
      ],
      "text/plain": [
       "   YearsExperience   Salary\n",
       "0              1.1  39343.0\n",
       "1              1.3  46205.0\n",
       "2              1.5  37731.0\n",
       "3              2.0  43525.0\n",
       "4              2.2  39891.0"
      ]
     },
     "execution_count": 5,
     "metadata": {},
     "output_type": "execute_result"
    }
   ],
   "source": [
    "df.head()"
   ]
  },
  {
   "cell_type": "code",
   "execution_count": 6,
   "id": "e53d2e0a",
   "metadata": {},
   "outputs": [
    {
     "data": {
      "text/plain": [
       "(30, 2)"
      ]
     },
     "execution_count": 6,
     "metadata": {},
     "output_type": "execute_result"
    }
   ],
   "source": [
    "df.shape"
   ]
  },
  {
   "cell_type": "code",
   "execution_count": 7,
   "id": "950082c4",
   "metadata": {},
   "outputs": [
    {
     "name": "stdout",
     "output_type": "stream",
     "text": [
      "<class 'pandas.core.frame.DataFrame'>\n",
      "RangeIndex: 30 entries, 0 to 29\n",
      "Data columns (total 2 columns):\n",
      " #   Column           Non-Null Count  Dtype  \n",
      "---  ------           --------------  -----  \n",
      " 0   YearsExperience  30 non-null     float64\n",
      " 1   Salary           30 non-null     float64\n",
      "dtypes: float64(2)\n",
      "memory usage: 608.0 bytes\n"
     ]
    }
   ],
   "source": [
    "df.info()"
   ]
  },
  {
   "cell_type": "code",
   "execution_count": 8,
   "id": "9bbeddeb",
   "metadata": {},
   "outputs": [
    {
     "data": {
      "text/plain": [
       "YearsExperience    0\n",
       "Salary             0\n",
       "dtype: int64"
      ]
     },
     "execution_count": 8,
     "metadata": {},
     "output_type": "execute_result"
    }
   ],
   "source": [
    "df.isnull().sum()"
   ]
  },
  {
   "cell_type": "code",
   "execution_count": 35,
   "id": "5a5ed163",
   "metadata": {},
   "outputs": [],
   "source": [
    "def step(data,learning_rate,m,c):\n",
    "    for i in range(len(data)):\n",
    "        x = data.iloc[i][0]\n",
    "        y = data.iloc[i][1]\n",
    "        m = m - learning_rate*((-2/len(data))*(y-m*x-c)*x)\n",
    "        c = c - learning_rate*((-2/len(data))*(y-m*x-c))\n",
    "    return m,c"
   ]
  },
  {
   "cell_type": "code",
   "execution_count": 39,
   "id": "db4ff063",
   "metadata": {},
   "outputs": [],
   "source": [
    "def cost_function(data,m,c):\n",
    "    cost = 0\n",
    "    for i in range(len(data)):\n",
    "        x = data.iloc[i][0]\n",
    "        y = data.iloc[i][1]\n",
    "        cost = cost + ((1/len(data))*((y-m*x-c)**2))\n",
    "    return cost"
   ]
  },
  {
   "cell_type": "code",
   "execution_count": 46,
   "id": "0f1db74d",
   "metadata": {},
   "outputs": [],
   "source": [
    "def gradient_descent(data,learning_rate,no_of_iterations):\n",
    "    m = 0\n",
    "    c = 0\n",
    "    for i in range(no_of_iterations):\n",
    "        m,c = step(data,learning_rate,m,c)\n",
    "        print(\"for iteration number\",i+1,\" \",'cost: ',cost_function(data,m,c))\n",
    "    return m,c"
   ]
  },
  {
   "cell_type": "code",
   "execution_count": 37,
   "id": "1ca22ed1",
   "metadata": {},
   "outputs": [],
   "source": []
  },
  {
   "cell_type": "code",
   "execution_count": 50,
   "id": "00df266d",
   "metadata": {},
   "outputs": [
    {
     "name": "stdout",
     "output_type": "stream",
     "text": [
      "for iteration number 1   cost:  205557601.2333649\n",
      "for iteration number 2   cost:  193226040.84142473\n",
      "for iteration number 3   cost:  181807891.2228892\n",
      "for iteration number 4   cost:  171195003.74235275\n",
      "for iteration number 5   cost:  161330866.7274115\n",
      "for iteration number 6   cost:  152162926.06171584\n",
      "for iteration number 7   cost:  143642306.8215346\n",
      "for iteration number 8   cost:  135723556.04095545\n",
      "for iteration number 9   cost:  128364403.45005144\n",
      "for iteration number 10   cost:  121525538.93060827\n",
      "for iteration number 11   cost:  115170405.52174112\n",
      "for iteration number 12   cost:  109265006.88927749\n",
      "for iteration number 13   cost:  103777728.24862343\n",
      "for iteration number 14   cost:  98679169.80139567\n",
      "for iteration number 15   cost:  93941991.81171599\n",
      "for iteration number 16   cost:  89540770.50911923\n",
      "for iteration number 17   cost:  85451864.06179926\n",
      "for iteration number 18   cost:  81653287.91674004\n",
      "for iteration number 19   cost:  78124598.85239987\n",
      "for iteration number 20   cost:  74846787.13532257\n",
      "for iteration number 21   cost:  71802176.21454899\n",
      "for iteration number 22   cost:  68974329.42724375\n",
      "for iteration number 23   cost:  66347963.225729056\n",
      "for iteration number 24   cost:  63908866.47032522\n",
      "for iteration number 25   cost:  61643825.36421851\n",
      "for iteration number 26   cost:  59540553.636175126\n",
      "for iteration number 27   cost:  57587627.60445095\n",
      "for iteration number 28   cost:  55774425.78085431\n",
      "for iteration number 29   cost:  54091072.69774188\n",
      "for iteration number 30   cost:  52528386.662880935\n",
      "for iteration number 31   cost:  51077831.16772396\n",
      "for iteration number 32   cost:  49731469.6938102\n",
      "for iteration number 33   cost:  48481923.67983985\n",
      "for iteration number 34   cost:  47322333.42855423\n",
      "for iteration number 35   cost:  46246321.74798164\n",
      "for iteration number 36   cost:  45247960.13595998\n",
      "for iteration number 37   cost:  44321737.33019553\n",
      "for iteration number 38   cost:  43462530.0585323\n",
      "for iteration number 39   cost:  42665575.83565572\n",
      "for iteration number 40   cost:  41926447.663199365\n",
      "for iteration number 41   cost:  41241030.50020918\n",
      "for iteration number 42   cost:  40605499.38022161\n",
      "for iteration number 43   cost:  40016299.059851624\n",
      "for iteration number 44   cost:  39470125.0918302\n",
      "for iteration number 45   cost:  38963906.22291011\n",
      "for iteration number 46   cost:  38494788.02401646\n",
      "for iteration number 47   cost:  38060117.66648969\n",
      "for iteration number 48   cost:  37657429.76428726\n",
      "for iteration number 49   cost:  37284433.20761108\n",
      "for iteration number 50   cost:  36938998.91863368\n",
      "for iteration number 51   cost:  36619148.46484154\n",
      "for iteration number 52   cost:  36323043.47001918\n",
      "for iteration number 53   cost:  36048975.76708876\n",
      "for iteration number 54   cost:  35795358.24091861\n",
      "for iteration number 55   cost:  35560716.31283916\n",
      "for iteration number 56   cost:  35343680.021979205\n",
      "for iteration number 57   cost:  35142976.661669984\n",
      "for iteration number 58   cost:  34957423.932085566\n",
      "for iteration number 59   cost:  34785923.57299921\n",
      "for iteration number 60   cost:  34627455.44306213\n",
      "for iteration number 61   cost:  34481072.01435829\n",
      "for iteration number 62   cost:  34345893.25317299\n",
      "for iteration number 63   cost:  34221101.85994439\n",
      "for iteration number 64   cost:  34105938.843257904\n",
      "for iteration number 65   cost:  33999699.40449893\n",
      "for iteration number 66   cost:  33901729.11141642\n",
      "for iteration number 67   cost:  33811420.340368345\n",
      "for iteration number 68   cost:  33728208.9684363\n",
      "for iteration number 69   cost:  33651571.297910355\n",
      "for iteration number 70   cost:  33581021.19687008\n",
      "for iteration number 71   cost:  33516107.440724876\n",
      "for iteration number 72   cost:  33456411.240636304\n",
      "for iteration number 73   cost:  33401543.945728518\n",
      "for iteration number 74   cost:  33351144.906909626\n",
      "for iteration number 75   cost:  33304879.49097817\n",
      "for iteration number 76   cost:  33262437.234481372\n",
      "for iteration number 77   cost:  33223530.127528444\n",
      "for iteration number 78   cost:  33187891.018447965\n",
      "for iteration number 79   cost:  33155272.13081557\n",
      "for iteration number 80   cost:  33125443.68497114\n",
      "for iteration number 81   cost:  33098192.616696395\n",
      "for iteration number 82   cost:  33073321.386236385\n",
      "for iteration number 83   cost:  33050646.87132605\n",
      "for iteration number 84   cost:  33029999.33832545\n",
      "for iteration number 85   cost:  33011221.48598205\n",
      "for iteration number 86   cost:  32994167.556720108\n",
      "for iteration number 87   cost:  32978702.510715798\n",
      "for iteration number 88   cost:  32964701.258347757\n",
      "for iteration number 89   cost:  32952047.9469226\n",
      "for iteration number 90   cost:  32940635.29786085\n",
      "for iteration number 91   cost:  32930363.990797225\n",
      "for iteration number 92   cost:  32921142.091296725\n",
      "for iteration number 93   cost:  32912884.519119583\n",
      "for iteration number 94   cost:  32905512.554182764\n",
      "for iteration number 95   cost:  32898953.377565835\n",
      "for iteration number 96   cost:  32893139.645094734\n",
      "for iteration number 97   cost:  32888009.09120994\n",
      "for iteration number 98   cost:  32883504.16098651\n",
      "for iteration number 99   cost:  32879571.66832257\n",
      "for iteration number 100   cost:  32876162.478452556\n",
      "The intercept is: 27075.12473915582\n",
      "The slope is:  9074.445380755842\n"
     ]
    }
   ],
   "source": [
    "learning_rate = 0.1\n",
    "no_of_iterations = 100\n",
    "m,c = gradient_descent(df,learning_rate,no_of_iterations)\n",
    "print(\"The intercept is:\",c)\n",
    "print(\"The slope is: \",m)"
   ]
  }
 ],
 "metadata": {
  "kernelspec": {
   "display_name": "Python 3",
   "language": "python",
   "name": "python3"
  },
  "language_info": {
   "codemirror_mode": {
    "name": "ipython",
    "version": 3
   },
   "file_extension": ".py",
   "mimetype": "text/x-python",
   "name": "python",
   "nbconvert_exporter": "python",
   "pygments_lexer": "ipython3",
   "version": "3.8.8"
  }
 },
 "nbformat": 4,
 "nbformat_minor": 5
}
